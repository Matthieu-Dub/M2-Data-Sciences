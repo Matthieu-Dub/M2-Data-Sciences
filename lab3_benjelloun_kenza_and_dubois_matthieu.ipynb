{
  "cells": [
    {
      "cell_type": "markdown",
      "metadata": {
        "id": "x-BYE-nU3Ljs"
      },
      "source": [
        "# Short Lab 3 : Proximal/cyclic/greedy coordinate descent\n",
        "\n",
        "#### Authors: A. Gramfort, M. Massias, P. Ablin\n",
        "\n",
        "## Aim\n",
        "\n",
        "The aim of this material is to code \n",
        "- cyclic and greedy coordinate descent for ordinary least squares (OLS)\n",
        "- proximal coordinate descent for sparse Logistic regression\n",
        "\n",
        "## VERY IMPORTANT\n",
        "\n",
        "- This work **must be done by pairs of students**.\n",
        "- **Each** student must send their work **before the 23th of november at noon**, using the **moodle platform**.\n",
        "- This means that **each student in the pair sends the same file**\n",
        "- The **name of the file must be** constructed as in the next cell\n",
        "\n",
        "# Gentle reminder: no evaluation if you don't respect this EXACTLY\n",
        "\n",
        "### How to construct the name of your file"
      ]
    },
    {
      "cell_type": "code",
      "execution_count": 1,
      "metadata": {
        "colab": {
          "base_uri": "https://localhost:8080/"
        },
        "id": "-UUOmk1e3Ljw",
        "outputId": "d1bfa32d-511a-4bf7-8037-447426221eca"
      },
      "outputs": [
        {
          "output_type": "stream",
          "name": "stdout",
          "text": [
            "lab3_benjelloun_kenza_and_dubois_matthieu.ipynb\n"
          ]
        }
      ],
      "source": [
        "# Change here using YOUR first and last names\n",
        "fn1 = \"kenza\"\n",
        "ln1 = \"benjelloun\"\n",
        "fn2 = \"matthieu\"\n",
        "ln2 = \"dubois\"\n",
        "\n",
        "filename = \"_\".join(map(lambda s: s.strip().lower(), \n",
        "                        [\"lab3\", ln1, fn1, \"and\", ln2, fn2])) + \".ipynb\"\n",
        "print(filename)"
      ]
    },
    {
      "cell_type": "code",
      "execution_count": 2,
      "metadata": {
        "id": "Nz9vjmJl3Ljz"
      },
      "outputs": [],
      "source": [
        "import numpy as np\n",
        "from numpy.linalg import norm\n",
        "import matplotlib.pyplot as plt"
      ]
    },
    {
      "cell_type": "code",
      "execution_count": 3,
      "metadata": {
        "id": "cBjcHYyV3Lj0"
      },
      "outputs": [],
      "source": [
        "# the usual functions:\n",
        "\n",
        "from numpy.random import multivariate_normal\n",
        "from scipy.linalg.special_matrices import toeplitz\n",
        "from numpy.random import randn\n",
        "\n",
        "\n",
        "def simu(coefs, n_samples=1000, corr=0.5, for_logreg=False):\n",
        "    n_features = len(coefs)\n",
        "    cov = toeplitz(corr ** np.arange(0, n_features))\n",
        "    A = multivariate_normal(np.zeros(n_features), cov, size=n_samples)\n",
        "    b = A.dot(coefs) + randn(n_samples)\n",
        "    if for_logreg:\n",
        "        b = np.sign(b)\n",
        "    return A, b"
      ]
    },
    {
      "cell_type": "markdown",
      "metadata": {
        "id": "tcuOIKCS3Lj1"
      },
      "source": [
        "## Part 1: Ordinary Least Squares\n",
        "\n",
        "\n",
        "Let $A \\in \\mathbb{R}^{n \\times p}$, $y \\in \\mathbb{R}^n$.\n",
        "We want to use coordinate descent to solve:\n",
        " \n",
        "   $$\\hat w \\in  \\mathrm{arg \\, min \\,} \\frac 12 \\Vert Aw - b \\Vert ^2 $$\n",
        "\n",
        "\n",
        "<div class=\"alert alert-success\">\n",
        "    <b>QUESTION 1:</b> We ask you to code\n",
        "     <ul>\n",
        "         <li>cyclic coordinate descent: at iteration $t$, update feature $j = t \\mod p$</li>\n",
        "         <li>greedy coordinate descent: at iteration $t$, update feature having the largest partial gradient in magnitude, ie $j = \\mathrm{arg\\, max \\,}_{i} \\vert \\nabla_i f(w_t) \\vert$.\n",
        "</li>\n",
        "    </ul>\n",
        "</div>\n",
        "\n",
        "**WARNING**: You must do this in a clever way, ie such that $p$ updates cost the same as one update of GD."
      ]
    },
    {
      "cell_type": "code",
      "execution_count": 4,
      "metadata": {
        "id": "a4biE1zU3Lj2"
      },
      "outputs": [],
      "source": [
        "n_features = 100\n",
        "np.random.seed(1970)\n",
        "coefs = np.random.randn(n_features)\n",
        "\n",
        "A, b = simu(coefs, n_samples=1000, for_logreg=False)"
      ]
    },
    {
      "cell_type": "code",
      "execution_count": 5,
      "metadata": {
        "id": "iDMVOUJt3Lj2"
      },
      "outputs": [],
      "source": [
        "def cyclic_cd(A, b, n_iter):\n",
        "    n_samples, n_features = A.shape\n",
        "    all_objs = []\n",
        "    \n",
        "    w = np.zeros(n_features)\n",
        "    residuals = b - A.dot(w)\n",
        "    \n",
        "    # TODO\n",
        "    lips_const = np.linalg.norm(A, axis=0) ** 2\n",
        "    # END TODO\n",
        "    \n",
        "    for t in range(n_iter):\n",
        "        j = t % n_features\n",
        "        # TODO\n",
        "        old_w_j =  w[j]\n",
        "        w[j] += 1./ lips_const[j] * A[:,j].dot(residuals)\n",
        "        # update residuals:\n",
        "        residuals += ( A[:,j].dot(old_w_j) - A[:,j].dot(w[j]) )\n",
        "        # END TODO\n",
        "        \n",
        "        if t % n_features == 0:\n",
        "            all_objs.append((residuals ** 2).sum() / 2.)\n",
        "    return w, np.array(all_objs)\n",
        "\n",
        "\n",
        "\n",
        "def greedy_cd(A, b, n_iter):\n",
        "    n_samples, n_features = A.shape\n",
        "    all_objs = []\n",
        "    \n",
        "    w = np.zeros(n_features)\n",
        "    \n",
        "    gradient = A.T.dot(A.dot(w) - b)\n",
        "    gram = A.T.dot(A)  # you will need this to keep the gradient up to date\n",
        "    \n",
        "    # TODO\n",
        "    lips_const = np.sum(A * A, axis=0)\n",
        "    # END TODO \n",
        "    \n",
        "    for t in range(n_iter):\n",
        "        # TODO\n",
        "        # choose feature j to update: \n",
        "        j = np.argmax(np.abs(gradient))\n",
        "        old_w_j = w[j]\n",
        "        w[j] -= 1./ lips_const[j] * gradient[j]\n",
        "        # update gradient:\n",
        "        gradient -= ( gram[:,j] * (old_w_j - w[j]) )\n",
        "        # END TODO\n",
        "        \n",
        "        if t % n_features == 0:\n",
        "            all_objs.append(0.5 * np.linalg.norm(A.dot(w) - b) ** 2)\n",
        "    \n",
        "    return w, np.array(all_objs)"
      ]
    },
    {
      "cell_type": "markdown",
      "metadata": {
        "id": "WAxJ6QE23Lj3"
      },
      "source": [
        "<div class=\"alert alert-success\">\n",
        "    <b>QUESTION 2:</b>\n",
        "     <ul>\n",
        "         <li>Compute a precise minimum with your favorite solver</li>\n",
        "         <li>Compare the performance of cyclic and greedy CD as function of iterations.</li>\n",
        "         <li>From a practical point of view, could you use greedy CD for L2 regularized logistic regression? to solve OLS, but with 100,000 features? Explain your answers.</li>\n",
        "    </ul>\n",
        "</div>\n",
        "\n",
        "**Remark:** You will do the plots using the number of iterations on the x-axis and not time as your code is likely to be slow unless you use [numba](https://numba.pydata.org/)."
      ]
    },
    {
      "cell_type": "markdown",
      "source": [
        "### Compute a precise minimum with your favorite solver"
      ],
      "metadata": {
        "id": "l_ibPwONGxi5"
      }
    },
    {
      "cell_type": "code",
      "execution_count": 6,
      "metadata": {
        "id": "RBiBvqFP3Lj4"
      },
      "outputs": [],
      "source": [
        "from scipy import linalg\n",
        "w = linalg.solve(np.dot(A.T, A), np.dot(A.T, b))\n",
        "obj = 0.5 * np.linalg.norm(A.dot(w) - b) ** 2"
      ]
    },
    {
      "cell_type": "markdown",
      "source": [
        "### Compare the performance of cyclic and greedy CD as function of iterations"
      ],
      "metadata": {
        "id": "WmXcQH-mHLO4"
      }
    },
    {
      "cell_type": "code",
      "source": [
        "w_cyclic,obj_cyclic = cyclic_cd(A,b,10000)\n",
        "w_greedy,obj_greedy = greedy_cd(A,b,10000)\n",
        "iter_range = np.arange(obj_cyclic.shape[0])+1\n",
        "plt.plot(iter_range, obj_cyclic - obj, label='cyclic coordinate descent')\n",
        "plt.plot(iter_range, obj_greedy - obj, label='greedy coordinate descent')\n",
        "plt.legend()\n",
        "plt.yscale('log')\n",
        "plt.ylabel('$f(\\widehat{w}) - f(w^*)$')\n",
        "plt.xlabel('iterations')"
      ],
      "metadata": {
        "colab": {
          "base_uri": "https://localhost:8080/",
          "height": 296
        },
        "id": "DfS4qkQiJhs9",
        "outputId": "4f202697-e3aa-45af-b4e4-a3fbf7ff245a"
      },
      "execution_count": 7,
      "outputs": [
        {
          "output_type": "execute_result",
          "data": {
            "text/plain": [
              "Text(0.5, 0, 'iterations')"
            ]
          },
          "metadata": {},
          "execution_count": 7
        },
        {
          "output_type": "display_data",
          "data": {
            "text/plain": [
              "<Figure size 432x288 with 1 Axes>"
            ],
            "image/png": "[encoded data removed]"
          },
          "metadata": {
            "needs_background": "light"
          }
        }
      ]
    },
    {
      "cell_type": "markdown",
      "source": [
        "Greedy CD is faster then Cyclic GD as function of iterations"
      ],
      "metadata": {
        "id": "KawGzBlKuB2I"
      }
    },
    {
      "cell_type": "markdown",
      "source": [
        "### From a practical point of view, could you use greedy CD for L2 regularized logistic regression? to solve OLS, but with 100,000 features? Explain your answers."
      ],
      "metadata": {
        "id": "cBE9R-GjKJWf"
      }
    },
    {
      "cell_type": "markdown",
      "source": [
        "- Greedy CD for L2 regularized logistic regression : Greedy CD is not efficient and too expensive for L2 regularized logistic regression as it updates the gradients for each coordinate with a constant cost.\n",
        "- Greedy CD to solve OLS with 100,000 features : With 100,000 features, greedy CD would be too costly as it evaluates the whole gradient vector to find the best index and the best descent. "
      ],
      "metadata": {
        "id": "HzRzo3eyuNWi"
      }
    },
    {
      "cell_type": "markdown",
      "metadata": {
        "id": "0TT_G-be3Lj4"
      },
      "source": [
        "## Part 2: Sparse Logistic regression"
      ]
    },
    {
      "cell_type": "markdown",
      "metadata": {
        "id": "gkeiECPT3Lj4"
      },
      "source": [
        "### An important result\n",
        "\n",
        "Remember: we are solving \n",
        "$$\\hat w \\in \\mathrm{arg \\, min} \\sum_{i=1}^{n} \\mathrm{log} ( 1 + e^{- y_i w^\\top x_i} )  + \\lambda \\Vert w \\Vert_1$$\n",
        "\n",
        "<div class=\"alert alert-success\">\n",
        "    <b>QUESTION 3:</b><br/>\n",
        "  Assuming uniqueness of the solution, show that: $\\lambda \\geq \\lambda_{max} \\Leftrightarrow \\hat w = 0$\n",
        "where $\\lambda_{max} := \\frac 12 \\Vert X^\\top y \\Vert_{\\infty}$.\n",
        "</div>\n",
        "\n",
        "**HINT:** You will need the following beautiful result: for any $w =(w_1, \\dots, w_p) \\in \\mathbb{R}^p$, the subdifferential of the L1 norm at $w$ is:\n",
        "\n",
        "$$\\partial \\Vert \\cdot \\Vert_1 (w) = \\partial \\vert \\cdot \\vert (w_1)  \\times \\dots \\times \\partial \\vert \\cdot \\vert (w_p) $$\n",
        "where $\\times$ is the Cartesian product between sets,\n",
        "and $$ \\partial \\vert \\cdot \\vert (w_j) = \n",
        "\\begin{cases} &w_j / |w_j| &\\mathrm{if} \\quad w_j \\neq 0, \n",
        "         \\\\ & [-1, 1] &\\mathrm{otherwise.} \n",
        "\\end{cases}\n",
        "$$\n",
        "\n",
        "\n",
        "(it should now be easy to find $\\partial \\Vert \\cdot \\Vert_1 (\\mathbf{0}_p)$)"
      ]
    },
    {
      "cell_type": "markdown",
      "metadata": {
        "id": "sF5bNoBB3Lj5"
      },
      "source": [
        "Let's show that: $\\lambda \\geq \\lambda_{max} \\Leftrightarrow \\hat w = 0$\n",
        "where $\\lambda_{max} := \\frac 12 \\Vert X^\\top y \\Vert_{\\infty}$.\n",
        "</div>\n",
        "\n",
        "Let f be the following function : \n",
        "$$ f(w) = \\sum_{i=1}^{n} \\mathrm{log} ( 1 + e^{- y_i w^\\top x_i} )  + \\lambda \\Vert w \\Vert_1$$\n",
        "\n",
        "Then :    \n",
        "\n",
        "$$ \\partial f_{j}(w) =  \\sum_{i=1}^{n} (- y_i X_{ij}^\\top / 1 + e^{- y_i w^\\top x_i} )  + \\lambda \\partial \\left|  w_j \\right|  $$\n",
        "\n",
        "So, we have :\n",
        "\n",
        "$$\\widehat{w} = argmin f_j(w) \\Leftrightarrow 0 \\in \\partial f(\\widehat{w}) \\Leftrightarrow \\frac{1}{\\lambda} \\sum_{i=1}^{n} (- y_i X_{ij}^\\top / 1 + e^{- y_i \\hat w^\\top x_i} )\\in\\partial \\left| \\hat w_j \\right| $$\n",
        "\n",
        "\n",
        "Let's show first that : $\\lambda \\geq \\lambda_{max} \\Leftarrow \\hat w = 0$\n",
        "\n",
        "if $\\hat w = 0 \\Rightarrow \\hat w_i = 0 $ $\\forall i$  $ \\Rightarrow ∂ \\left| \\hat w_j \\right| = [-1,1]$ \n",
        "\n",
        "So : $$-\\lambda\\le \\sum_{i=1}^{n} (- y_i X_{ij}^\\top / 1 + e^{- y_i \\hat w^\\top x_i} ) \\le \\lambda$$\n",
        "\n",
        "$$-\\lambda\\le \\sum_{i=1}^{n} (- y_i X_{ij}^\\top / 2 ) \\le \\lambda$$\n",
        "\n",
        "$$\\frac{1}{2}\\left\\| X^\\top y \\right\\|_{\\infty} \\le \\lambda$$\n",
        "\n",
        "\n",
        "Nown let's show that : $\\lambda \\geq \\lambda_{max} \\Rightarrow \\hat w = 0$\n",
        "\n",
        "\n",
        "We have \n",
        "\n",
        "$\\left| \\sum_{i=1}^{n} y_{i}w^{T}x_{i}\\right| = \\left| \\sum_{j=1}^{n} w_{j}\\sum_{i=1}^{n}y_{i}X_{ij}\\right| \\le \\sum_{j=1}^{n}\\left| w_{j} \\right|\\left\\| X^{T} y\\right\\|_{\\infty} \\le 2\\lambda\\left\\| w \\right\\|_{1}$\n",
        "\n",
        "So, using Jensen's inequality :             \n",
        "$f(w) = \\sum_{i=1}^{n} \\mathrm{log} ( 1 + e^{- y_i w^\\top x_i} )  + \\lambda \\Vert w \\Vert_1 \\geqslant  n\\mathrm{log} ( 1 + e^{- \\sum_{i=1}^{n}y_i w^\\top x_i} ) + \\lambda \\Vert w \\Vert_1 \\geqslant n\\mathrm{log} ( 1 + e^{- 2\\lambda\\left\\| w \\right\\|_{1}} ) + \\lambda \\Vert w \\Vert_1 = ng ( \\frac{2 λ}{n} \\lVert w \\rVert_{1} )$\n",
        "\n",
        "Where $g(x) = log(1 + e^{-x}) + \\frac{x}{2}$ \n",
        "which is an increasing function so :     \n",
        "\n",
        "$$f(w)\\geqslant ng ( \\frac{2 λ}{n} \\lVert w \\rVert_{1} ) \\geqslant ng(0) = f(0)$$\n",
        "\n",
        "We also have :    \n",
        "\n",
        "$$\\hat w \\in \\mathrm{arg \\, min} f(w)$$\n",
        "\n",
        "Which means $f(\\hat w)=f(0)$ and finally $\\hat w=0$\n",
        "\n",
        "To conclude : $\\lambda \\geq \\lambda_{max} \\Leftrightarrow \\hat w = 0$\n",
        "where $\\lambda_{max} := \\frac 12 \\Vert X^\\top y \\Vert_{\\infty}$.\n",
        "\n"
      ]
    },
    {
      "cell_type": "markdown",
      "metadata": {
        "id": "nq4ERljh3Lj5"
      },
      "source": [
        "<div class=\"alert alert-success\">\n",
        "    <b>QUESTION 4:</b><br/>\n",
        "  Show that for sparse Logistic regression the coordinate-wise Lipschitz constant of the smooth term, $\\gamma_j$, can be taken equal to $\\Vert X_j \\Vert^2 / 4$, where $X_j$ denotes the $j$-th column of $X$.\n",
        "</div>"
      ]
    },
    {
      "cell_type": "markdown",
      "metadata": {
        "id": "NiCTLr1T3Lj5"
      },
      "source": [
        "Let f be the following function : \n",
        "$$ f(w) = \\sum_{i=1}^{n} \\mathrm{log} ( 1 + e^{- y_i w^\\top x_i} ) $$\n",
        "\n",
        "So : \n",
        "\n",
        "$$ \\frac{\\partial f(w)}{\\partial w_{j}} = \\sum_{i=1}^{n} (- y_i x_{ij} / 1 + e^{- y_i w^\\top x_i} ) $$ \n",
        "\n",
        "And :          \n",
        " \n",
        "$$ \\frac{\\partial^{2}f(w) }{\\partial w_{j}^{2}} = \\sum_{i=1}^{n} y_{i}^{2}x_{ij}^{2} exp(y_{i}w^\\top x_{i})/(1+exp(y_{i}w^\\top x_{i}))^{2} $$\n",
        "\n",
        "We have : $\\forall x$ $$ (1+x^{2})\\ge 4x  $$ and  $\\forall i$ $$y_{i}^{2} = 1 $$\n",
        "\n",
        "So : \n",
        "$$\\left| \\frac{\\partial^{2}f(w) }{\\partial w_{j}^{2}} \\right|\\le \\frac{1}{4}\\sum_{i=1}^{n} y_{i}^{2}x_{ij}^{2}  $$\n",
        "\n",
        "$$\\le \\frac{1}{4}\\sum_{i=1}^{n}x_{ij}^{2} = \\frac{1}{4} \\left\\| Xj \\right\\|^{2}$$\n",
        "\n",
        "Which means we can have $ \\frac{1}{4} \\left\\| Xj \\right\\|^{2}$ as Lipschitz constant.\n",
        "\n",
        "\n",
        "\n",
        "\n",
        "\n",
        "\n"
      ]
    },
    {
      "cell_type": "markdown",
      "metadata": {
        "id": "tlgiFklj3Lj6"
      },
      "source": [
        "<div class=\"alert alert-success\">\n",
        "    <b>QUESTION 5:</b><br/>\n",
        "    Code cyclic proximal coordinate descent for sparse Logistic regression:\n",
        "</div>\n",
        "\n",
        "**WARNING**: the Lasso means linear regression (quadratic fitting term) with L1 penalty. Sparse logistic regression means logistic regression with L1 penalty."
      ]
    },
    {
      "cell_type": "code",
      "execution_count": 8,
      "metadata": {
        "id": "JrKEkhn93Lj6"
      },
      "outputs": [],
      "source": [
        "X, y = simu(coefs, n_samples=1000, for_logreg=True)\n",
        "lambda_max = norm(X.T.dot(y), ord= np.inf) / 2.\n",
        "lamb = lambda_max / 20.  \n",
        "# much easier to parametrize lambda as a function of lambda_max than \n",
        "# to take random values like 0.1 in previous Labs\n",
        "\n",
        "\n",
        "def sigmoid(t):\n",
        "    \"\"\"Sigmoid function\"\"\"\n",
        "    return 1. / (1. + np.exp(-t))\n",
        "\n",
        "\n",
        "def soft_thresh(x, u):\n",
        "    \"\"\"Soft thresholding of x at level u\"\"\"\n",
        "    return np.sign(x) * np.maximum(0., np.abs(x) - u)\n",
        "\n",
        "\n",
        "def cd_logreg(X, y, lamb, n_iter):\n",
        "    n_samples, n_features = X.shape\n",
        "    w = np.zeros(n_features)\n",
        "    Xw = X.dot(w)\n",
        "\n",
        "    all_objs = []\n",
        "    \n",
        "    # TODO\n",
        "    lips_const = np.sum(X ** 2, axis=0)/4\n",
        "    # END TODO\n",
        "    \n",
        "    for t in range(n_iter):\n",
        "        for j in range(n_features):\n",
        "            old_w_j = w[j]\n",
        "            # TODO\n",
        "            grad_j =  np.sum( - y * X[:,j] * sigmoid( - y * Xw) )\n",
        "            w[j] = soft_thresh(old_w_j - grad_j / lips_const[j] , lamb / lips_const[j])\n",
        "            \n",
        "            if old_w_j != w[j]:\n",
        "                Xw += ( ( w[j] - old_w_j )  * X[:,j] )\n",
        "            #END TODO\n",
        "            \n",
        "        all_objs.append(np.log(1. + np.exp(-y * Xw)).sum() + lamb * norm(w, ord=1))\n",
        "    \n",
        "    return w, np.array(all_objs)"
      ]
    },
    {
      "cell_type": "code",
      "source": [
        "n_features = 100\n",
        "np.random.seed(1970)\n",
        "coefs = np.random.randn(n_features)\n",
        "\n",
        "A, b = simu(coefs, n_samples=1000, for_logreg=True)"
      ],
      "metadata": {
        "id": "XSefTjnPG0aM"
      },
      "execution_count": 9,
      "outputs": []
    },
    {
      "cell_type": "code",
      "source": [
        "w_cd_logreg, objs_cd_logreg = cd_logreg(A,b,lamb,1000)"
      ],
      "metadata": {
        "id": "rnNURkrKHCP6"
      },
      "execution_count": 10,
      "outputs": []
    },
    {
      "cell_type": "code",
      "source": [
        "iter_range = np.arange(objs_cd_logreg.shape[0])+1\n",
        "plt.plot(iter_range, objs_cd_logreg - objs_cd_logreg[-1], label='proximal coordinate descent')\n",
        "plt.legend()\n",
        "plt.ylabel('$f(\\widehat{w}) - f(w^*)$')\n",
        "plt.xlabel('iterations')\n",
        "plt.yscale('log')\n",
        "plt.title('Performance of proximal CD for Sparse logistic regression')"
      ],
      "metadata": {
        "colab": {
          "base_uri": "https://localhost:8080/",
          "height": 312
        },
        "id": "OHuCyEy1G_JI",
        "outputId": "44ea04fd-005a-48e2-9c8d-30f9cd66214f"
      },
      "execution_count": 11,
      "outputs": [
        {
          "output_type": "execute_result",
          "data": {
            "text/plain": [
              "Text(0.5, 1.0, 'Performance of proximal CD for Sparse logistic regression')"
            ]
          },
          "metadata": {},
          "execution_count": 11
        },
        {
          "output_type": "display_data",
          "data": {
            "text/plain": [
              "<Figure size 432x288 with 1 Axes>"
            ],
            "image/png": "[encoded data removed]"
          },
          "metadata": {
            "needs_background": "light"
          }
        }
      ]
    },
    {
      "cell_type": "markdown",
      "metadata": {
        "id": "2QpP8aJ63Lj7"
      },
      "source": [
        "# Part 3: Real data\n",
        "\n",
        "We will compare vanilla cyclic CD and ISTA to solve the Lasso on a real dataset, called _leukemia_."
      ]
    },
    {
      "cell_type": "code",
      "execution_count": 12,
      "metadata": {
        "id": "85Vxnxrn3Lj7"
      },
      "outputs": [],
      "source": [
        "from sklearn.datasets import fetch_openml\n",
        "\n",
        "leuk = fetch_openml(\"leukemia\")\n",
        "\n",
        "X = np.asfortranarray(leuk.data)\n",
        "y = np.ones(leuk.target.shape)\n",
        "y[leuk.target == leuk.target[0]] = -1."
      ]
    },
    {
      "cell_type": "code",
      "execution_count": 13,
      "metadata": {
        "id": "OfNYmRHj3Lj8",
        "outputId": "d0bdd0f5-7fec-4099-e515-69b7ed565e2a",
        "colab": {
          "base_uri": "https://localhost:8080/"
        }
      },
      "outputs": [
        {
          "output_type": "stream",
          "name": "stdout",
          "text": [
            "(72, 7129)\n"
          ]
        }
      ],
      "source": [
        "print(X.shape)\n",
        "\n",
        "lambda_max_lasso = norm(X.T.dot(y), ord=np.inf)\n",
        "lambd = lambda_max_lasso / 5."
      ]
    },
    {
      "cell_type": "markdown",
      "metadata": {
        "id": "Ws75CJ2m3Lj9"
      },
      "source": [
        "<div class=\"alert alert-success\">\n",
        "    <b>QUESTION 6:</b> Code\n",
        "    <ul>\n",
        "        <li>a simple proximal gradient solver for the Lasso</li>\n",
        "        <li>a prox CD solver for the Lasso and compare them on this dataset.</li>\n",
        "    </ul>\n",
        "</div>\n",
        "\n",
        "**Remark:** Do the plots in terms of epochs, not updates (to be fair to CD)."
      ]
    },
    {
      "cell_type": "code",
      "source": [
        "def lasso_proxGD(X,y,lamb,n_iter):\n",
        "    n_samples, n_features = X.shape\n",
        "    w = np.zeros(n_features)\n",
        "    XT_X = np.dot(X.T,X)\n",
        "    XT_y = np.dot(X.T,y)\n",
        "\n",
        "    all_objs = np.empty(n_iter)\n",
        "    \n",
        "    lips_const = np.linalg.norm(X, ord=2) ** 2\n",
        "    \n",
        "    for t in range(n_iter):\n",
        "        w = soft_thresh(w - 1. / lips_const * (XT_X.dot(w) - XT_y), \n",
        "                        lamb / lips_const)\n",
        "        \n",
        "        all_objs[t] = 0.5 * np.linalg.norm(X.dot(w) - y) ** 2 + lamb * norm(w, ord=1)\n",
        "    \n",
        "    return w, all_objs\n",
        "  \n",
        "def lasso_proxCD(X, y, lamb, n_iter):\n",
        "    n_samples, n_features = X.shape\n",
        "    w = np.zeros(n_features)\n",
        "    residuals = X.dot(w) - y\n",
        "\n",
        "    all_objs = np.empty(n_iter)\n",
        "    \n",
        "    lips_const = np.sum(X ** 2, axis=0)\n",
        "    \n",
        "    for t in range(n_iter):\n",
        "        for j in range(n_features):\n",
        "            old_w_j = w[j]\n",
        "            w[j] = soft_thresh(old_w_j - 1. / lips_const[j] * X[:,j].dot(residuals) ,\n",
        "                               lamb / lips_const[j])\n",
        "            \n",
        "            if old_w_j != w[j]:\n",
        "                residuals += ( - X[:,j].dot(old_w_j) + X[:,j].dot(w[j]) )\n",
        "            \n",
        "        all_objs[t] = (residuals ** 2).sum() / 2. + lamb * norm(w, ord=1)\n",
        "    \n",
        "    return w, all_objs"
      ],
      "metadata": {
        "id": "oBAqkeMHD65X"
      },
      "execution_count": 14,
      "outputs": []
    },
    {
      "cell_type": "code",
      "source": [
        "w_proxCD, objs_proxCD = lasso_proxCD(X,y,lambd,1000)\n",
        "w_proxGD, objs_proxGD = lasso_proxGD(X,y,lambd,1000)"
      ],
      "metadata": {
        "id": "Dtnx8S5kERwR"
      },
      "execution_count": 15,
      "outputs": []
    },
    {
      "cell_type": "code",
      "execution_count": 16,
      "metadata": {
        "id": "Z1a6z62_3Lj9",
        "colab": {
          "base_uri": "https://localhost:8080/",
          "height": 312
        },
        "outputId": "9eaa751b-5fbd-41e1-9b96-78da1df4a192"
      },
      "outputs": [
        {
          "output_type": "execute_result",
          "data": {
            "text/plain": [
              "Text(0.5, 1.0, 'Comparision of objective function error with Lasso for prox GD and prox CD')"
            ]
          },
          "metadata": {},
          "execution_count": 16
        },
        {
          "output_type": "display_data",
          "data": {
            "text/plain": [
              "<Figure size 432x288 with 1 Axes>"
            ],
            "image/png": "[encoded data removed]"
          },
          "metadata": {
            "needs_background": "light"
          }
        }
      ],
      "source": [
        "iter_range = np.arange(objs_proxGD.shape[0])\n",
        "plt.plot(iter_range, objs_proxGD - objs_proxGD[-1], label='proximal GD')\n",
        "plt.plot(iter_range, objs_proxCD - objs_proxCD[-1], label='proximal CD')\n",
        "plt.legend()\n",
        "plt.yscale('log')\n",
        "plt.ylabel('$f(\\widehat{w}) - f(w^*)$')\n",
        "plt.xlabel('iterations')\n",
        "plt.title('Comparision of objective function error with Lasso for prox GD and prox CD')"
      ]
    },
    {
      "cell_type": "markdown",
      "source": [
        "We can notice that proximal CD performs better and converges faster than proximal GD."
      ],
      "metadata": {
        "id": "j-w5FwomModb"
      }
    }
  ],
  "metadata": {
    "anaconda-cloud": {},
    "kernelspec": {
      "display_name": "Python 3",
      "language": "python",
      "name": "python3"
    },
    "language_info": {
      "codemirror_mode": {
        "name": "ipython",
        "version": 3
      },
      "file_extension": ".py",
      "mimetype": "text/x-python",
      "name": "python",
      "nbconvert_exporter": "python",
      "pygments_lexer": "ipython3",
      "version": "3.8.6"
    },
    "colab": {
      "provenance": []
    }
  },
  "nbformat": 4,
  "nbformat_minor": 0
}